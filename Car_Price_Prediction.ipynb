{
  "cells": [
    {
      "cell_type": "code",
      "execution_count": null,
      "metadata": {
        "id": "BTqWYGa5EFxn"
      },
      "outputs": [],
      "source": []
    },
    {
      "cell_type": "markdown",
      "metadata": {
        "id": "iiimk1ZpEuwn"
      },
      "source": [
        "# **INTRODUCTION**\n",
        "\n",
        "Welcome to our Car Price Prediction project! In today's automotive market, accurately determining the value of a used car can be challenging for both sellers and buyers. Factors such as the car's age, mileage, and condition, as well as market trends, can all influence its selling price. In this project, we address this challenge by leveraging machine learning techniques to develop a predictive model that can estimate the selling price of cars based on various features.\n",
        "\n",
        "Our goal is to provide a reliable tool that empowers car sellers to set competitive prices and helps buyers make informed decisions. By analyzing historical data on car sales and their attributes, we aim to uncover patterns and relationships that can guide our predictive model."
      ]
    },
    {
      "cell_type": "markdown",
      "metadata": {
        "id": "gkE3xy87FG8a"
      },
      "source": [
        "### **IMPORTING THE LIBRARIES**"
      ]
    },
    {
      "cell_type": "code",
      "execution_count": null,
      "metadata": {
        "id": "Xl7FEZY-FGXE"
      },
      "outputs": [],
      "source": [
        "import warnings\n",
        "warnings.filterwarnings('ignore')"
      ]
    },
    {
      "cell_type": "code",
      "execution_count": null,
      "metadata": {
        "id": "e0sfwPr1FcSG"
      },
      "outputs": [],
      "source": [
        "#Importing the necessary libraries\n",
        "import pandas as pd\n",
        "import numpy as np\n",
        "import matplotlib.pyplot as plt"
      ]
    },
    {
      "cell_type": "markdown",
      "metadata": {
        "id": "OfvjA-NnFhDj"
      },
      "source": [
        "## **Data PreProcessing and Collection**"
      ]
    },
    {
      "cell_type": "code",
      "execution_count": null,
      "metadata": {
        "id": "LdTHGao1FqZ3"
      },
      "outputs": [],
      "source": [
        "#Loading the dataset\n",
        "dataset = pd.read_csv('/content/CAR_DATA_EXTENDED.csv')"
      ]
    },
    {
      "cell_type": "code",
      "execution_count": null,
      "metadata": {
        "colab": {
          "base_uri": "https://localhost:8080/",
          "height": 206
        },
        "id": "BqxUx-CxFzeo",
        "outputId": "af908aad-bc8b-47f8-d42a-e3148b8f102a"
      },
      "outputs": [],
      "source": [
        "#Displaying the top 5 rows of the dataset\n",
        "dataset.head()"
      ]
    },
    {
      "cell_type": "code",
      "execution_count": null,
      "metadata": {
        "colab": {
          "base_uri": "https://localhost:8080/",
          "height": 206
        },
        "id": "_KjO7oKfF-TG",
        "outputId": "f4dfa15c-6c29-4ac0-f179-76b9f3c5180f"
      },
      "outputs": [],
      "source": [
        "#Displaying the last 5 rows of the dataset\n",
        "dataset.tail()"
      ]
    },
    {
      "cell_type": "code",
      "execution_count": null,
      "metadata": {
        "colab": {
          "base_uri": "https://localhost:8080/"
        },
        "id": "5b2qNA7wGEVc",
        "outputId": "5caa005c-c1d6-4631-8128-3d86a4a378d5"
      },
      "outputs": [],
      "source": [
        "#Shape of the dataset\n",
        "dataset.shape"
      ]
    },
    {
      "cell_type": "code",
      "execution_count": null,
      "metadata": {
        "colab": {
          "base_uri": "https://localhost:8080/"
        },
        "id": "lorhN3ZaGHNW",
        "outputId": "9ce027d8-8ff4-4b8f-a914-f96f070f64b2"
      },
      "outputs": [],
      "source": [
        "print(\"Rows presented in the dataset: \",dataset.shape[0] )\n",
        "print(\"Columns presented in the dataset: \",dataset.shape[1] )"
      ]
    },
    {
      "cell_type": "code",
      "execution_count": null,
      "metadata": {
        "colab": {
          "base_uri": "https://localhost:8080/"
        },
        "id": "uIJappneGLpp",
        "outputId": "433fff20-5fc5-4012-d38d-2cb015a32478"
      },
      "outputs": [],
      "source": [
        "#Information about the dataset\n",
        "dataset.info()"
      ]
    },
    {
      "cell_type": "markdown",
      "metadata": {
        "id": "j4T9dBECGPFp"
      },
      "source": [
        "## **Checking null values and removing duplicates**"
      ]
    },
    {
      "cell_type": "code",
      "execution_count": null,
      "metadata": {
        "colab": {
          "base_uri": "https://localhost:8080/",
          "height": 366
        },
        "id": "O_YJqNbZGV2u",
        "outputId": "7cb98cf7-e4ef-41f5-d162-7ecb8d451a43"
      },
      "outputs": [],
      "source": [
        "#Checking for null values\n",
        "dataset.isnull().sum()"
      ]
    },
    {
      "cell_type": "code",
      "execution_count": null,
      "metadata": {
        "colab": {
          "base_uri": "https://localhost:8080/"
        },
        "id": "SXdFi1smGfMM",
        "outputId": "0509ae63-d8bd-4a7c-ec8c-6d0378a23b91"
      },
      "outputs": [],
      "source": [
        "#Checking for duplicated values\n",
        "dataset.duplicated().sum()"
      ]
    },
    {
      "cell_type": "code",
      "execution_count": null,
      "metadata": {
        "id": "ur3mTOmjGqk6"
      },
      "outputs": [],
      "source": [
        "#Dropping duplicate rows\n",
        "dataset.drop_duplicates(inplace=True)"
      ]
    },
    {
      "cell_type": "code",
      "execution_count": null,
      "metadata": {
        "colab": {
          "base_uri": "https://localhost:8080/"
        },
        "id": "OmMPqmQaGtMT",
        "outputId": "85d33785-1a59-4e32-d4e4-293b141fc850"
      },
      "outputs": [],
      "source": [
        "dataset.duplicated().sum()"
      ]
    },
    {
      "cell_type": "code",
      "execution_count": null,
      "metadata": {
        "colab": {
          "base_uri": "https://localhost:8080/",
          "height": 300
        },
        "id": "JQM4iVp2GyFS",
        "outputId": "1c914c54-991c-457b-8c0a-b5e6fc1dec29"
      },
      "outputs": [],
      "source": [
        "#Statistical categorical features\n",
        "dataset.describe()"
      ]
    },
    {
      "cell_type": "code",
      "execution_count": null,
      "metadata": {
        "colab": {
          "base_uri": "https://localhost:8080/",
          "height": 81
        },
        "id": "hyL_ft6LHCWy",
        "outputId": "5f5d7ead-18f7-4911-991d-9a07e72d6df3"
      },
      "outputs": [],
      "source": [
        "dataset.head(1)"
      ]
    },
    {
      "cell_type": "markdown",
      "metadata": {
        "id": "xwn3GWUXHKLx"
      },
      "source": [
        "## **Adding a new column for lifespan of the model**"
      ]
    },
    {
      "cell_type": "code",
      "execution_count": null,
      "metadata": {
        "id": "gpp-giA0HQ4M"
      },
      "outputs": [],
      "source": [
        "#Importing date time library for lifespan of the car\n",
        "import datetime\n",
        "date_time = datetime.datetime.now()\n",
        "dataset['Age'] = date_time.year - dataset['Year']"
      ]
    },
    {
      "cell_type": "code",
      "execution_count": null,
      "metadata": {
        "colab": {
          "base_uri": "https://localhost:8080/",
          "height": 206
        },
        "id": "g-0JtZ3DHaFJ",
        "outputId": "78f0acf3-cd3f-4c2c-9cc8-ef0f411f67b8"
      },
      "outputs": [],
      "source": [
        "dataset.head()"
      ]
    },
    {
      "cell_type": "markdown",
      "metadata": {
        "id": "mDX3LSxRHd66"
      },
      "source": [
        "# **Removing the outliers**"
      ]
    },
    {
      "cell_type": "code",
      "execution_count": null,
      "metadata": {
        "id": "qNKk5ffzHjhh"
      },
      "outputs": [],
      "source": [
        "#Selecting categorical features\n",
        "categorical_features=dataset[['Fuel_Type','Seller_Type','Transmission']]"
      ]
    },
    {
      "cell_type": "code",
      "execution_count": null,
      "metadata": {
        "colab": {
          "base_uri": "https://localhost:8080/",
          "height": 467
        },
        "id": "0FJAnWRnHown",
        "outputId": "1896afca-894e-450e-bd48-0977e4435eb8"
      },
      "outputs": [],
      "source": [
        "#Importing label encoder from preprocessing from sklearn import preprocessing\n",
        "import seaborn as sns\n",
        "sns.boxplot(x='Selling_Price',data=dataset)"
      ]
    },
    {
      "cell_type": "code",
      "execution_count": null,
      "metadata": {
        "colab": {
          "base_uri": "https://localhost:8080/"
        },
        "id": "Ihvn8EZ_HuAt",
        "outputId": "64055054-2c02-48c6-a2b2-5aa73e74038c"
      },
      "outputs": [],
      "source": [
        "#Checking for any outliers present in the target variable\n",
        "sorted(dataset['Selling_Price'],reverse=True)"
      ]
    },
    {
      "cell_type": "code",
      "execution_count": null,
      "metadata": {
        "id": "z-FVQO_LHztH"
      },
      "outputs": [],
      "source": [
        "#Filtering out outliers in the 'Selling_Proce' column\n",
        "dataset = dataset[~(dataset['Selling_Price']>=33.0) & (dataset['Selling_Price']<=35.0)]"
      ]
    },
    {
      "cell_type": "code",
      "execution_count": null,
      "metadata": {
        "colab": {
          "base_uri": "https://localhost:8080/"
        },
        "id": "-0jTgk0tH2MG",
        "outputId": "75919ccf-3e14-4d95-c344-bc1dc12e3437"
      },
      "outputs": [],
      "source": [
        "dataset.shape"
      ]
    },
    {
      "cell_type": "code",
      "execution_count": null,
      "metadata": {
        "colab": {
          "base_uri": "https://localhost:8080/",
          "height": 81
        },
        "id": "6JIoDOWfH6Wt",
        "outputId": "c7066c97-b7dc-4742-9679-a9dbd3303d32"
      },
      "outputs": [],
      "source": [
        "#Encoding the unique values of 'Fuel_Type','Seller_Type','Transmission'\n",
        "dataset.head(1)"
      ]
    },
    {
      "cell_type": "markdown",
      "metadata": {
        "id": "MXPNCr7JH-K0"
      },
      "source": [
        "## **Encoding to Unique values from our data**"
      ]
    },
    {
      "cell_type": "code",
      "execution_count": null,
      "metadata": {
        "colab": {
          "base_uri": "https://localhost:8080/"
        },
        "id": "TDnm1l_2IFlF",
        "outputId": "c4035298-b834-468e-fca7-f8bdfa3e9cf3"
      },
      "outputs": [],
      "source": [
        "dataset['Fuel_Type'].unique()"
      ]
    },
    {
      "cell_type": "code",
      "execution_count": null,
      "metadata": {
        "id": "eRr8dI0LIM6K"
      },
      "outputs": [],
      "source": [
        "dataset['Fuel_Type'] = dataset['Fuel_Type'].map({'Petrol':0,'Diesel':1,'CNG':2})"
      ]
    },
    {
      "cell_type": "code",
      "execution_count": null,
      "metadata": {
        "colab": {
          "base_uri": "https://localhost:8080/"
        },
        "id": "RI61D9GrISit",
        "outputId": "9467fea4-8b1c-4a29-ab4d-b10ac4249f38"
      },
      "outputs": [],
      "source": [
        "dataset['Fuel_Type'].unique()"
      ]
    },
    {
      "cell_type": "code",
      "execution_count": null,
      "metadata": {
        "colab": {
          "base_uri": "https://localhost:8080/"
        },
        "id": "kfWf3mTMIVtb",
        "outputId": "29784c82-da05-4893-f4e8-627b5a6ea27f"
      },
      "outputs": [],
      "source": [
        "dataset['Seller_Type'].unique()"
      ]
    },
    {
      "cell_type": "code",
      "execution_count": null,
      "metadata": {
        "id": "kBvGaThyIaLZ"
      },
      "outputs": [],
      "source": [
        "dataset['Seller_Type'] = dataset['Seller_Type'].map({'Dealer':0,'Individual':1})"
      ]
    },
    {
      "cell_type": "code",
      "execution_count": null,
      "metadata": {
        "colab": {
          "base_uri": "https://localhost:8080/"
        },
        "id": "R6zmksJkId52",
        "outputId": "7d02e171-94dd-46db-e7ee-e52c24d2e1a8"
      },
      "outputs": [],
      "source": [
        "dataset['Seller_Type'].unique()"
      ]
    },
    {
      "cell_type": "code",
      "execution_count": null,
      "metadata": {
        "colab": {
          "base_uri": "https://localhost:8080/"
        },
        "id": "XmgfBazmIhIo",
        "outputId": "7b4a7755-fbe6-4212-c531-7410499d2002"
      },
      "outputs": [],
      "source": [
        "dataset['Transmission'].unique()"
      ]
    },
    {
      "cell_type": "code",
      "execution_count": null,
      "metadata": {
        "id": "hgByH6PbIlLU"
      },
      "outputs": [],
      "source": [
        "dataset['Transmission'] = dataset['Transmission'].map({'Manual':0,'Automatic':1})"
      ]
    },
    {
      "cell_type": "code",
      "execution_count": null,
      "metadata": {
        "colab": {
          "base_uri": "https://localhost:8080/"
        },
        "id": "r6vq6E6iIoJq",
        "outputId": "5bbd024c-85a9-49f0-cd6e-dd8bd46fbac0"
      },
      "outputs": [],
      "source": [
        "dataset['Transmission'].unique()"
      ]
    },
    {
      "cell_type": "code",
      "execution_count": null,
      "metadata": {
        "colab": {
          "base_uri": "https://localhost:8080/",
          "height": 206
        },
        "id": "9X9cEU8nIq_i",
        "outputId": "1fa0a720-4f0f-4640-9efd-119196036fa5"
      },
      "outputs": [],
      "source": [
        "dataset.head()"
      ]
    },
    {
      "cell_type": "code",
      "execution_count": null,
      "metadata": {
        "id": "n68zLor6IuU3"
      },
      "outputs": [],
      "source": [
        "#Splitting the feature and target variable\n",
        "x = dataset.drop(['Car_Name','Selling_Price'],axis=1)\n",
        "y = dataset['Selling_Price']"
      ]
    },
    {
      "cell_type": "code",
      "execution_count": null,
      "metadata": {
        "colab": {
          "base_uri": "https://localhost:8080/",
          "height": 458
        },
        "id": "bj4jKeFoIxhr",
        "outputId": "3c15bae0-fe87-44f4-9a3d-0c838bf96af5"
      },
      "outputs": [],
      "source": [
        "y"
      ]
    },
    {
      "cell_type": "markdown",
      "metadata": {
        "id": "u_YnhgAsI1oS"
      },
      "source": [
        "## **DATA VISUALIZATION    (Visualizing the data)**"
      ]
    },
    {
      "cell_type": "code",
      "execution_count": null,
      "metadata": {
        "colab": {
          "base_uri": "https://localhost:8080/",
          "height": 607
        },
        "id": "o_8goVsjJLLD",
        "outputId": "a21d0474-38a6-4a01-8a1d-1eccafd389cd"
      },
      "outputs": [],
      "source": [
        "#Histograms\n",
        "dataset[['Year','Present_Price','Kms_Driven']].hist(figsize=(12,6),bins=20)\n",
        "plt.tight_layout()\n",
        "plt.xlabel('Value')\n",
        "plt.ylabel('Frequency')\n",
        "plt.title('Histograms of Numeric Features')\n",
        "plt.show()"
      ]
    },
    {
      "cell_type": "code",
      "execution_count": null,
      "metadata": {
        "colab": {
          "base_uri": "https://localhost:8080/",
          "height": 564
        },
        "id": "rVr9RRoyJQ66",
        "outputId": "6919e302-f4d8-4a8e-e023-58eb7f015bdb"
      },
      "outputs": [],
      "source": [
        "#Boxplot\n",
        "plt.figure(figsize=(12,6))\n",
        "sns.boxplot(data=dataset[['Year','Present_Price','Kms_Driven']])\n",
        "plt.xlabel('Features')\n",
        "plt.ylabel('Values')\n",
        "plt.title('Boxplots of Numeric Features')\n",
        "plt.show()"
      ]
    },
    {
      "cell_type": "code",
      "execution_count": null,
      "metadata": {
        "colab": {
          "base_uri": "https://localhost:8080/",
          "height": 564
        },
        "id": "Yg6tkze2JXF0",
        "outputId": "1b9c855f-b866-4cee-a21e-62d6bdd6af1a"
      },
      "outputs": [],
      "source": [
        "#Barplot\n",
        "plt.figure(figsize=(12,6))\n",
        "sns.countplot(x='Fuel_Type',data=dataset)\n",
        "plt.xlabel('Fuel Type')\n",
        "plt.ylabel('Features')\n",
        "plt.title('Frequency of Fuel Types')\n",
        "plt.show()"
      ]
    },
    {
      "cell_type": "code",
      "execution_count": null,
      "metadata": {
        "colab": {
          "base_uri": "https://localhost:8080/",
          "height": 564
        },
        "id": "QYWpy7vtJeeV",
        "outputId": "d16c73fe-63cc-4997-ca02-1a7a903aa844"
      },
      "outputs": [],
      "source": [
        "plt.figure(figsize=(12, 6))\n",
        "sns.countplot(x='Seller_Type', data=dataset)\n",
        "plt.title('Frequency of Seller Types')\n",
        "plt.xlabel('Seller Type')\n",
        "plt.ylabel('Frequency')\n",
        "plt.show()"
      ]
    },
    {
      "cell_type": "code",
      "execution_count": null,
      "metadata": {
        "colab": {
          "base_uri": "https://localhost:8080/",
          "height": 564
        },
        "id": "j_6puWZSJkfa",
        "outputId": "d6dc25a7-945c-4870-c2ad-7fea54e12824"
      },
      "outputs": [],
      "source": [
        "plt.figure(figsize=(12, 6))\n",
        "sns.countplot(x='Transmission', data=dataset)\n",
        "plt.title('Frequency of Transmission Types')\n",
        "plt.xlabel('Transmission Type')\n",
        "plt.ylabel('Frequency')\n",
        "plt.show()"
      ]
    },
    {
      "cell_type": "code",
      "execution_count": null,
      "metadata": {
        "colab": {
          "base_uri": "https://localhost:8080/",
          "height": 564
        },
        "id": "dBohenNVJqVU",
        "outputId": "75b03202-ea8b-4f71-ffa6-f7aead6c142b"
      },
      "outputs": [],
      "source": [
        "#Scatterplots\n",
        "plt.figure(figsize=(12, 6))\n",
        "sns.scatterplot(x='Year', y='Selling_Price', data=dataset)\n",
        "plt.title('Selling Price vs Year')\n",
        "plt.xlabel('Year')\n",
        "plt.ylabel('Selling Price')\n",
        "plt.show()"
      ]
    },
    {
      "cell_type": "code",
      "execution_count": null,
      "metadata": {
        "colab": {
          "base_uri": "https://localhost:8080/",
          "height": 564
        },
        "id": "IJuDyBdUJr9Z",
        "outputId": "4af125d6-b752-4233-8974-d047b8f83a54"
      },
      "outputs": [],
      "source": [
        "plt.figure(figsize=(12, 6))\n",
        "sns.scatterplot(x='Present_Price', y='Selling_Price', data=dataset)\n",
        "plt.title('Selling Price vs Present Price')\n",
        "plt.xlabel('Present Price')\n",
        "plt.ylabel('Selling Price')\n",
        "plt.show()"
      ]
    },
    {
      "cell_type": "code",
      "execution_count": null,
      "metadata": {
        "colab": {
          "base_uri": "https://localhost:8080/",
          "height": 564
        },
        "id": "D5YCgKRJJvpS",
        "outputId": "8e2dd846-b138-439b-8dd6-a52948b9ad0f"
      },
      "outputs": [],
      "source": [
        "plt.figure(figsize=(12, 6))\n",
        "sns.scatterplot(x='Kms_Driven', y='Selling_Price', data=dataset)\n",
        "plt.title('Selling Price vs Kms Driven')\n",
        "plt.xlabel('Kms Driven')\n",
        "plt.ylabel('Selling Price')\n",
        "plt.show()"
      ]
    },
    {
      "cell_type": "code",
      "execution_count": null,
      "metadata": {
        "colab": {
          "base_uri": "https://localhost:8080/",
          "height": 564
        },
        "id": "6-Cs95DfJ2qj",
        "outputId": "2e66e7e7-da16-47fa-84d9-fc17c451be18"
      },
      "outputs": [],
      "source": [
        "#Time Series Plot\n",
        "plt.figure(figsize=(12, 6))\n",
        "sns.lineplot(x='Year', y='Selling_Price', data=dataset.groupby('Year')['Selling_Price'].mean().reset_index())\n",
        "plt.title('Average Selling Price Over the Years')\n",
        "plt.xlabel('Year')\n",
        "plt.ylabel('Average Selling Price')\n",
        "plt.show()"
      ]
    },
    {
      "cell_type": "markdown",
      "metadata": {
        "id": "XVRMM9BDJ94o"
      },
      "source": [
        "##  **MODEL SELECTION AND TRAINING**"
      ]
    },
    {
      "cell_type": "code",
      "execution_count": null,
      "metadata": {
        "id": "ace1H7_HKpfN"
      },
      "outputs": [],
      "source": [
        "#Importing necessary libraries for model selection\n",
        "from sklearn.model_selection import train_test_split"
      ]
    },
    {
      "cell_type": "code",
      "execution_count": null,
      "metadata": {
        "id": "ClxNdX6-KxRW"
      },
      "outputs": [],
      "source": [
        "#Splitting the dataset into training and testing sets\n",
        "x_train,x_test,y_train,y_test = train_test_split(x,y,test_size=0.20,random_state=42)"
      ]
    },
    {
      "cell_type": "code",
      "execution_count": null,
      "metadata": {
        "id": "EK2hZt83K0LI"
      },
      "outputs": [],
      "source": [
        "#Imorting necessary Regression models\n",
        "from sklearn.linear_model import LinearRegression\n",
        "from sklearn.ensemble import RandomForestRegressor\n",
        "from sklearn.ensemble import GradientBoostingRegressor\n",
        "from xgboost import XGBRegressor"
      ]
    },
    {
      "cell_type": "code",
      "execution_count": null,
      "metadata": {
        "colab": {
          "base_uri": "https://localhost:8080/",
          "height": 254
        },
        "id": "GCh0JMsbK2ym",
        "outputId": "075a2e26-0dbe-415f-e98f-8357587a55d2"
      },
      "outputs": [],
      "source": [
        "#Instantiating and training the models\n",
        "lr = LinearRegression()\n",
        "lr.fit(x_train,y_train)\n",
        "\n",
        "rf = RandomForestRegressor()\n",
        "rf.fit(x_train,y_train)\n",
        "\n",
        "gbr = GradientBoostingRegressor()\n",
        "gbr.fit(x_train,y_train)\n",
        "\n",
        "xg = XGBRegressor()\n",
        "xg.fit(x_train,y_train)"
      ]
    },
    {
      "cell_type": "code",
      "execution_count": null,
      "metadata": {
        "id": "bGu4JoD8K7Jc"
      },
      "outputs": [],
      "source": [
        "#Predicting using each model\n",
        "y_pred1 = lr.predict(x_test)\n",
        "y_pred2 = rf.predict(x_test)\n",
        "y_pred3 = gbr.predict(x_test)\n",
        "y_pred4 = xg.predict(x_test)"
      ]
    },
    {
      "cell_type": "code",
      "execution_count": null,
      "metadata": {
        "id": "9keoIzyLK-Wq"
      },
      "outputs": [],
      "source": [
        "from sklearn import metrics"
      ]
    },
    {
      "cell_type": "markdown",
      "metadata": {
        "id": "vgwziNyyLCL2"
      },
      "source": [
        "### **Checking R2 SCORE value**"
      ]
    },
    {
      "cell_type": "code",
      "execution_count": null,
      "metadata": {
        "id": "neDPJTktLKVI"
      },
      "outputs": [],
      "source": [
        "#R2 Score for each model\n",
        "score1 = metrics.r2_score(y_test,y_pred1)\n",
        "score2 = metrics.r2_score(y_test,y_pred2)\n",
        "score3 = metrics.r2_score(y_test,y_pred3)\n",
        "score4 = metrics.r2_score(y_test,y_pred4)"
      ]
    },
    {
      "cell_type": "code",
      "execution_count": null,
      "metadata": {
        "colab": {
          "base_uri": "https://localhost:8080/"
        },
        "id": "CJUy-WO-LPoY",
        "outputId": "ac292492-15a6-4e1d-f8f6-517cca69e49d"
      },
      "outputs": [],
      "source": [
        "print(score1,score2,score3,score4)"
      ]
    },
    {
      "cell_type": "code",
      "execution_count": null,
      "metadata": {
        "id": "rhGz4YELLShT"
      },
      "outputs": [],
      "source": [
        "#Storing the metrics values in a DataFrame\n",
        "final_data = pd.DataFrame({'Models':['LR','RF','GBR','XG'],\"R2_SCORE\":[score1,score2,score3,score4]})"
      ]
    },
    {
      "cell_type": "code",
      "execution_count": null,
      "metadata": {
        "colab": {
          "base_uri": "https://localhost:8080/",
          "height": 175
        },
        "id": "W-3cAO1-LVZJ",
        "outputId": "fe4f41a0-dcd2-4c5b-a502-f085f09261a9"
      },
      "outputs": [],
      "source": [
        "final_data"
      ]
    },
    {
      "cell_type": "markdown",
      "metadata": {
        "id": "44Rx1ASELcK_"
      },
      "source": [
        "## **Visualizing R2 SCORE**"
      ]
    },
    {
      "cell_type": "code",
      "execution_count": null,
      "metadata": {
        "colab": {
          "base_uri": "https://localhost:8080/",
          "height": 466
        },
        "id": "KX8dSM8GLY75",
        "outputId": "0a2a2847-435e-4225-abf3-979978eb175c"
      },
      "outputs": [],
      "source": [
        "#Plotting R2_SCORE v\n",
        "sns.barplot(x='Models',y='R2_SCORE', data=final_data)"
      ]
    },
    {
      "cell_type": "code",
      "execution_count": null,
      "metadata": {
        "id": "wCQDTkSBLo1t"
      },
      "outputs": [],
      "source": [
        "#Builiding the predictive model with high accuracy of R2 SCORE anf fitting to rf Regressor\n",
        "rf = RandomForestRegressor()\n",
        "rf_final = rf.fit(x,y)"
      ]
    },
    {
      "cell_type": "code",
      "execution_count": null,
      "metadata": {
        "colab": {
          "base_uri": "https://localhost:8080/",
          "height": 112
        },
        "id": "jkYMdk1FLvi5",
        "outputId": "d652ca81-8f80-4b9f-91e4-49c7489b9e7e"
      },
      "outputs": [],
      "source": [
        "dataset.head(2)"
      ]
    },
    {
      "cell_type": "markdown",
      "metadata": {
        "id": "ZPbxSqGWL6t_"
      },
      "source": [
        "### **Checking for different regression models**"
      ]
    },
    {
      "cell_type": "code",
      "execution_count": null,
      "metadata": {
        "id": "M_tvwfHQMKxJ"
      },
      "outputs": [],
      "source": [
        "lr = LinearRegression()\n",
        "lr_final = lr.fit(x,y)"
      ]
    },
    {
      "cell_type": "code",
      "execution_count": null,
      "metadata": {
        "id": "Vv0wwmVEM3Pi"
      },
      "outputs": [],
      "source": [
        "gbr = GradientBoostingRegressor()\n",
        "gbr_final = gbr.fit(x,y)"
      ]
    },
    {
      "cell_type": "code",
      "execution_count": null,
      "metadata": {
        "id": "tytNQUFoN0ts"
      },
      "outputs": [],
      "source": [
        "xg = XGBRegressor()\n",
        "xg_final = xg.fit(x,y)"
      ]
    },
    {
      "cell_type": "markdown",
      "metadata": {
        "id": "9eITAtNNODQs"
      },
      "source": [
        "## **Building Predictive Model**"
      ]
    },
    {
      "cell_type": "code",
      "execution_count": null,
      "metadata": {
        "id": "0bMNR_guOHJ_"
      },
      "outputs": [],
      "source": [
        "# User input for Predictive System\n",
        "input_data = (2013,9.54,43000,1,0,0,0,11)"
      ]
    },
    {
      "cell_type": "code",
      "execution_count": null,
      "metadata": {
        "id": "dE15uPeFOOZX"
      },
      "outputs": [],
      "source": [
        "!# Changing the input data to numpy array\n",
        "input_data_as_numpy_array = np.asarray(input_data)"
      ]
    },
    {
      "cell_type": "code",
      "execution_count": null,
      "metadata": {
        "id": "XeOtnrniOQ6s"
      },
      "outputs": [],
      "source": [
        "# Reshape the array as we are predicting for one instance\n",
        "input_data_reshaped = input_data_as_numpy_array.reshape(1, -1)\n",
        "input_data_reshaped = pd.DataFrame(input_data_reshaped, columns=x_train.columns)"
      ]
    },
    {
      "cell_type": "markdown",
      "metadata": {
        "id": "pLn-lGdYOzPO"
      },
      "source": [
        "### **FINAL RESULT PRICE FOR THE BEST MODEL**"
      ]
    },
    {
      "cell_type": "code",
      "execution_count": null,
      "metadata": {
        "colab": {
          "base_uri": "https://localhost:8080/"
        },
        "id": "M56ewlVvOTUp",
        "outputId": "d395ea58-da7f-4ae0-caa5-4974cf2e5e96"
      },
      "outputs": [],
      "source": [
        "# Prediction\n",
        "prediction = rf.predict(input_data_reshaped)\n",
        "print(\"The selling price of a car is:\", prediction[0])"
      ]
    },
    {
      "cell_type": "markdown",
      "metadata": {
        "id": "DdELQodxPCNJ"
      },
      "source": [
        "### **Checking for other models**"
      ]
    },
    {
      "cell_type": "code",
      "execution_count": null,
      "metadata": {
        "colab": {
          "base_uri": "https://localhost:8080/"
        },
        "id": "toW8PNstOlE6",
        "outputId": "e7bda820-0320-4537-9e89-3dacebbce948"
      },
      "outputs": [],
      "source": [
        "# Prediction for linear regression\n",
        "prediction = lr.predict(input_data_reshaped)\n",
        "print(\"The selling price of a car is:\", prediction[0])"
      ]
    },
    {
      "cell_type": "code",
      "execution_count": null,
      "metadata": {
        "colab": {
          "base_uri": "https://localhost:8080/"
        },
        "id": "Ja0TO2AGPJSs",
        "outputId": "d78027da-782d-4504-821e-1aabe7c894cc"
      },
      "outputs": [],
      "source": [
        "# Prediction for gradientbooster regression\n",
        "prediction = gbr.predict(input_data_reshaped)\n",
        "print(\"The selling price of a car is:\", prediction[0])"
      ]
    },
    {
      "cell_type": "code",
      "execution_count": null,
      "metadata": {
        "colab": {
          "base_uri": "https://localhost:8080/"
        },
        "id": "KEntwR9nPQfA",
        "outputId": "fcbc203b-4cbe-4bd6-96fb-62ed2d952164"
      },
      "outputs": [],
      "source": [
        "# Prediction for xgbooster regression\n",
        "prediction = xg.predict(input_data_reshaped)\n",
        "print(\"The selling price of a car is:\", prediction[0])"
      ]
    },
    {
      "cell_type": "markdown",
      "metadata": {
        "id": "2T80zwMSPcmo"
      },
      "source": [
        "## **Saving the Predictive Model**"
      ]
    },
    {
      "cell_type": "code",
      "execution_count": null,
      "metadata": {
        "id": "d3mNjtOYPiMH"
      },
      "outputs": [],
      "source": [
        "#Importing the pickle Library\n",
        "import pickle as pic"
      ]
    },
    {
      "cell_type": "code",
      "execution_count": null,
      "metadata": {
        "id": "3VqxKPROPrAo"
      },
      "outputs": [],
      "source": [
        "# Saving the Model\n",
        "filename = \"car_Model.sav\"\n",
        "pic.dump(rf, open(filename, 'wb'))"
      ]
    },
    {
      "cell_type": "code",
      "execution_count": null,
      "metadata": {
        "id": "PMVLvk3mPvJH"
      },
      "outputs": [],
      "source": [
        "#Loading the Model\n",
        "loaded_model = pic.load(open(filename, 'rb'))"
      ]
    },
    {
      "cell_type": "code",
      "execution_count": null,
      "metadata": {
        "colab": {
          "base_uri": "https://localhost:8080/"
        },
        "id": "57hJssduPxq2",
        "outputId": "fa7b9885-9f91-4aa9-ace2-53e39fde817f"
      },
      "outputs": [],
      "source": [
        "# Prediction using the loaded model\n",
        "prediction = loaded_model.predict(input_data_reshaped)\n",
        "print(\"The selling price of a car is:\", prediction[0])"
      ]
    },
    {
      "cell_type": "markdown",
      "metadata": {
        "id": "l89-qeCvd7Oa"
      },
      "source": [
        "# **GUI**"
      ]
    },
    {
      "cell_type": "code",
      "execution_count": null,
      "metadata": {
        "colab": {
          "base_uri": "https://localhost:8080/",
          "height": 325,
          "referenced_widgets": [
            "fbb73398896d49ee8a26345e42143c6f",
            "1554af3cd4144044ba5132e825b1ab6a",
            "ae49a114c865498581349e6b3499b72a",
            "a80648f924f04cd796d155f41104d619",
            "aeb302433f9a41cfbf58c78e22734c42",
            "c48d177b7c7b4956a9b0b429b7a3e288",
            "032207e0317443ee90b5fc019811115d",
            "c5c48478eac941849a2bd417b218407d",
            "83cbb046529a493aaba17ee4e1c2f39e",
            "f3b371f794ee4785a781f09db41029a7",
            "8b32561777f7457e9c4b3c81bbbb6989",
            "df1bdb2abdcb498384b2bfad9ba285de",
            "08e5e1948eb145b19624619313872ef1",
            "02025cb2dcf04542ad5f903c12942665",
            "c8e0260e0aae45f2a2e98370b2bd0f45",
            "4cc54235ccd14f55a37811a350c37c2b",
            "f363556b03e84dceaea8f54db0f83656",
            "d4f4c5e8850e4e96b7be8d8238c642f1",
            "30efd4d6e7cd47e78292cd07568552bf",
            "61ed511f0ce24f95a3f4485c3715b8e4",
            "79bd30db5aad44e98fbd7712cf7951b0",
            "571a05f3eca7460f845a2ce597dcd892",
            "46a40f43cc64495db6c277fdfacc0f11",
            "1b8135434dba4498ac5016e2c9eae03d",
            "27c9039ad5b2444c9cba3de87a418ecb",
            "c6de6bbd856f458fb35be9c1863962e5",
            "f7c952cb1e4c4cc4b775847bf8893d13",
            "7851f04f62ab41b3a6050804f562c2af"
          ]
        },
        "id": "6VQKDvWleCGG",
        "outputId": "864f13d5-765d-4fa3-cf2e-2fe6ad01ec48"
      },
      "outputs": [],
      "source": [
        "#Graphical user Interface for the model\n",
        "import ipywidgets as widgets\n",
        "from IPython.display import display, clear_output\n",
        "import datetime\n",
        "\n",
        "# Widgets for user inputs\n",
        "present_price = widgets.FloatText(\n",
        "    value=5.0,\n",
        "    description='Present Price (L):',\n",
        "    style={'description_width': 'initial'}\n",
        ")\n",
        "\n",
        "kms_driven = widgets.IntText(\n",
        "    value=50000,\n",
        "    description='Kms Driven:',\n",
        "    style={'description_width': 'initial'}\n",
        ")\n",
        "\n",
        "fuel_type = widgets.Dropdown(\n",
        "    options=[('Petrol', 0), ('Diesel', 1), ('CNG', 2)],\n",
        "    value=0,\n",
        "    description='Fuel Type:',\n",
        "    style={'description_width': 'initial'}\n",
        ")\n",
        "\n",
        "seller_type = widgets.Dropdown(\n",
        "    options=[('Dealer', 0), ('Individual', 1)],\n",
        "    value=0,\n",
        "    description='Seller Type:',\n",
        "    style={'description_width': 'initial'}\n",
        ")\n",
        "\n",
        "transmission = widgets.Dropdown(\n",
        "    options=[('Manual', 0), ('Automatic', 1)],\n",
        "    value=0,\n",
        "    description='Transmission:',\n",
        "    style={'description_width': 'initial'}\n",
        ")\n",
        "\n",
        "owner = widgets.Dropdown(\n",
        "    options=[0, 1, 2, 3],\n",
        "    value=0,\n",
        "    description='Owner Count:',\n",
        "    style={'description_width': 'initial'}\n",
        ")\n",
        "\n",
        "year = widgets.IntSlider(\n",
        "    value=2018,\n",
        "    min=1995,\n",
        "    max=datetime.datetime.now().year,\n",
        "    step=1,\n",
        "    description='Car Year:',\n",
        "    style={'description_width': 'initial'},\n",
        "    continuous_update=False\n",
        ")\n",
        "\n",
        "# Output area\n",
        "output = widgets.Output()\n",
        "\n",
        "# Button\n",
        "predict_button = widgets.Button(\n",
        "    description='Predict Selling Price',\n",
        "    button_style='success',\n",
        "    tooltip='Click to Predict'\n",
        ")\n",
        "\n",
        "# Prediction Function\n",
        "def predict_price(b):\n",
        "    output.clear_output()\n",
        "    with output:\n",
        "        age = datetime.datetime.now().year - year.value\n",
        "\n",
        "        # Now including both Year and Age to match 8 features\n",
        "        input_data = [[\n",
        "            present_price.value,\n",
        "            kms_driven.value,\n",
        "            fuel_type.value,\n",
        "            seller_type.value,\n",
        "            transmission.value,\n",
        "            owner.value,\n",
        "            year.value,\n",
        "            age\n",
        "        ]]\n",
        "\n",
        "        prediction = rf_final.predict(input_data)\n",
        "        print(f\"\\n🔮 Predicted Selling Price: ₹ {prediction[0]:,.2f} lakhs\\n\")\n",
        "\n",
        "predict_button.on_click(predict_price)\n",
        "\n",
        "# Display everything\n",
        "display(widgets.VBox([\n",
        "    present_price,\n",
        "    kms_driven,\n",
        "    fuel_type,\n",
        "    seller_type,\n",
        "    transmission,\n",
        "    owner,\n",
        "    year,\n",
        "    predict_button,\n",
        "    output\n",
        "]))\n"
      ]
    },
    {
      "cell_type": "markdown",
      "metadata": {
        "id": "ZeLLbJNgel2h"
      },
      "source": [
        "# **PROJECT SUMMARY**\n",
        "Throughout this project, we embarked on a journey to develop a robust machine learning model for predicting car prices. We began by collecting and preprocessing a dataset containing information about different car attributes such as year of manufacture, present price, kilometers driven, fuel type, seller type, transmission, and owner history.\n",
        "\n",
        "After exploring and cleaning the data, we engineered features and encoded categorical variables to prepare them for model training. We then selected multiple regression models, including Linear Regression, Random Forest Regression, Gradient Boosting Regression, and XGBoost Regression, and trained them on our preprocessed dataset.\n",
        "\n",
        "Following model training, we evaluated each model's performance using metrics such as R-squared score and accuracy. Through extensive experimentation and fine-tuning, we identified the Random Forest Regression model as the most accurate predictor of car prices.\n",
        "\n",
        "In conclusion, our project succeeded in developing a reliable machine learning model for predicting car prices, which can provide valuable insights for both car sellers and buyers in the used car market. By leveraging data-driven approaches, we aim to enhance transparency and efficiency in the car buying and selling process, ultimately benefiting consumers and industry stakeholders alike.# Importing warnings module to ignore warnings"
      ]
    },
    {
      "cell_type": "code",
      "execution_count": null,
      "metadata": {
        "id": "pKoS_ftxeyfu"
      },
      "outputs": [],
      "source": []
    }
  ],
  "metadata": {
    "colab": {
      "provenance": []
    },
    "kernelspec": {
      "display_name": "Python 3",
      "name": "python3"
    },
    "language_info": {
      "name": "python"
    },
    "widgets": {
      "application/vnd.jupyter.widget-state+json": {
        "02025cb2dcf04542ad5f903c12942665": {
          "model_module": "@jupyter-widgets/base",
          "model_module_version": "1.2.0",
          "model_name": "LayoutModel",
          "state": {
            "_model_module": "@jupyter-widgets/base",
            "_model_module_version": "1.2.0",
            "_model_name": "LayoutModel",
            "_view_count": null,
            "_view_module": "@jupyter-widgets/base",
            "_view_module_version": "1.2.0",
            "_view_name": "LayoutView",
            "align_content": null,
            "align_items": null,
            "align_self": null,
            "border": null,
            "bottom": null,
            "display": null,
            "flex": null,
            "flex_flow": null,
            "grid_area": null,
            "grid_auto_columns": null,
            "grid_auto_flow": null,
            "grid_auto_rows": null,
            "grid_column": null,
            "grid_gap": null,
            "grid_row": null,
            "grid_template_areas": null,
            "grid_template_columns": null,
            "grid_template_rows": null,
            "height": null,
            "justify_content": null,
            "justify_items": null,
            "left": null,
            "margin": null,
            "max_height": null,
            "max_width": null,
            "min_height": null,
            "min_width": null,
            "object_fit": null,
            "object_position": null,
            "order": null,
            "overflow": null,
            "overflow_x": null,
            "overflow_y": null,
            "padding": null,
            "right": null,
            "top": null,
            "visibility": null,
            "width": null
          }
        },
        "032207e0317443ee90b5fc019811115d": {
          "model_module": "@jupyter-widgets/controls",
          "model_module_version": "1.5.0",
          "model_name": "DropdownModel",
          "state": {
            "_dom_classes": [],
            "_model_module": "@jupyter-widgets/controls",
            "_model_module_version": "1.5.0",
            "_model_name": "DropdownModel",
            "_options_labels": [
              "0",
              "1",
              "2",
              "3"
            ],
            "_view_count": null,
            "_view_module": "@jupyter-widgets/controls",
            "_view_module_version": "1.5.0",
            "_view_name": "DropdownView",
            "description": "Owner Count:",
            "description_tooltip": null,
            "disabled": false,
            "index": 3,
            "layout": "IPY_MODEL_571a05f3eca7460f845a2ce597dcd892",
            "style": "IPY_MODEL_46a40f43cc64495db6c277fdfacc0f11"
          }
        },
        "08e5e1948eb145b19624619313872ef1": {
          "model_module": "@jupyter-widgets/controls",
          "model_module_version": "1.5.0",
          "model_name": "DescriptionStyleModel",
          "state": {
            "_model_module": "@jupyter-widgets/controls",
            "_model_module_version": "1.5.0",
            "_model_name": "DescriptionStyleModel",
            "_view_count": null,
            "_view_module": "@jupyter-widgets/base",
            "_view_module_version": "1.2.0",
            "_view_name": "StyleView",
            "description_width": "initial"
          }
        },
        "1554af3cd4144044ba5132e825b1ab6a": {
          "model_module": "@jupyter-widgets/controls",
          "model_module_version": "1.5.0",
          "model_name": "FloatTextModel",
          "state": {
            "_dom_classes": [],
            "_model_module": "@jupyter-widgets/controls",
            "_model_module_version": "1.5.0",
            "_model_name": "FloatTextModel",
            "_view_count": null,
            "_view_module": "@jupyter-widgets/controls",
            "_view_module_version": "1.5.0",
            "_view_name": "FloatTextView",
            "continuous_update": false,
            "description": "Present Price (L):",
            "description_tooltip": null,
            "disabled": false,
            "layout": "IPY_MODEL_df1bdb2abdcb498384b2bfad9ba285de",
            "step": null,
            "style": "IPY_MODEL_08e5e1948eb145b19624619313872ef1",
            "value": 6
          }
        },
        "1b8135434dba4498ac5016e2c9eae03d": {
          "model_module": "@jupyter-widgets/base",
          "model_module_version": "1.2.0",
          "model_name": "LayoutModel",
          "state": {
            "_model_module": "@jupyter-widgets/base",
            "_model_module_version": "1.2.0",
            "_model_name": "LayoutModel",
            "_view_count": null,
            "_view_module": "@jupyter-widgets/base",
            "_view_module_version": "1.2.0",
            "_view_name": "LayoutView",
            "align_content": null,
            "align_items": null,
            "align_self": null,
            "border": null,
            "bottom": null,
            "display": null,
            "flex": null,
            "flex_flow": null,
            "grid_area": null,
            "grid_auto_columns": null,
            "grid_auto_flow": null,
            "grid_auto_rows": null,
            "grid_column": null,
            "grid_gap": null,
            "grid_row": null,
            "grid_template_areas": null,
            "grid_template_columns": null,
            "grid_template_rows": null,
            "height": null,
            "justify_content": null,
            "justify_items": null,
            "left": null,
            "margin": null,
            "max_height": null,
            "max_width": null,
            "min_height": null,
            "min_width": null,
            "object_fit": null,
            "object_position": null,
            "order": null,
            "overflow": null,
            "overflow_x": null,
            "overflow_y": null,
            "padding": null,
            "right": null,
            "top": null,
            "visibility": null,
            "width": null
          }
        },
        "27c9039ad5b2444c9cba3de87a418ecb": {
          "model_module": "@jupyter-widgets/controls",
          "model_module_version": "1.5.0",
          "model_name": "SliderStyleModel",
          "state": {
            "_model_module": "@jupyter-widgets/controls",
            "_model_module_version": "1.5.0",
            "_model_name": "SliderStyleModel",
            "_view_count": null,
            "_view_module": "@jupyter-widgets/base",
            "_view_module_version": "1.2.0",
            "_view_name": "StyleView",
            "description_width": "initial",
            "handle_color": null
          }
        },
        "30efd4d6e7cd47e78292cd07568552bf": {
          "model_module": "@jupyter-widgets/controls",
          "model_module_version": "1.5.0",
          "model_name": "DescriptionStyleModel",
          "state": {
            "_model_module": "@jupyter-widgets/controls",
            "_model_module_version": "1.5.0",
            "_model_name": "DescriptionStyleModel",
            "_view_count": null,
            "_view_module": "@jupyter-widgets/base",
            "_view_module_version": "1.2.0",
            "_view_name": "StyleView",
            "description_width": "initial"
          }
        },
        "46a40f43cc64495db6c277fdfacc0f11": {
          "model_module": "@jupyter-widgets/controls",
          "model_module_version": "1.5.0",
          "model_name": "DescriptionStyleModel",
          "state": {
            "_model_module": "@jupyter-widgets/controls",
            "_model_module_version": "1.5.0",
            "_model_name": "DescriptionStyleModel",
            "_view_count": null,
            "_view_module": "@jupyter-widgets/base",
            "_view_module_version": "1.2.0",
            "_view_name": "StyleView",
            "description_width": "initial"
          }
        },
        "4cc54235ccd14f55a37811a350c37c2b": {
          "model_module": "@jupyter-widgets/base",
          "model_module_version": "1.2.0",
          "model_name": "LayoutModel",
          "state": {
            "_model_module": "@jupyter-widgets/base",
            "_model_module_version": "1.2.0",
            "_model_name": "LayoutModel",
            "_view_count": null,
            "_view_module": "@jupyter-widgets/base",
            "_view_module_version": "1.2.0",
            "_view_name": "LayoutView",
            "align_content": null,
            "align_items": null,
            "align_self": null,
            "border": null,
            "bottom": null,
            "display": null,
            "flex": null,
            "flex_flow": null,
            "grid_area": null,
            "grid_auto_columns": null,
            "grid_auto_flow": null,
            "grid_auto_rows": null,
            "grid_column": null,
            "grid_gap": null,
            "grid_row": null,
            "grid_template_areas": null,
            "grid_template_columns": null,
            "grid_template_rows": null,
            "height": null,
            "justify_content": null,
            "justify_items": null,
            "left": null,
            "margin": null,
            "max_height": null,
            "max_width": null,
            "min_height": null,
            "min_width": null,
            "object_fit": null,
            "object_position": null,
            "order": null,
            "overflow": null,
            "overflow_x": null,
            "overflow_y": null,
            "padding": null,
            "right": null,
            "top": null,
            "visibility": null,
            "width": null
          }
        },
        "571a05f3eca7460f845a2ce597dcd892": {
          "model_module": "@jupyter-widgets/base",
          "model_module_version": "1.2.0",
          "model_name": "LayoutModel",
          "state": {
            "_model_module": "@jupyter-widgets/base",
            "_model_module_version": "1.2.0",
            "_model_name": "LayoutModel",
            "_view_count": null,
            "_view_module": "@jupyter-widgets/base",
            "_view_module_version": "1.2.0",
            "_view_name": "LayoutView",
            "align_content": null,
            "align_items": null,
            "align_self": null,
            "border": null,
            "bottom": null,
            "display": null,
            "flex": null,
            "flex_flow": null,
            "grid_area": null,
            "grid_auto_columns": null,
            "grid_auto_flow": null,
            "grid_auto_rows": null,
            "grid_column": null,
            "grid_gap": null,
            "grid_row": null,
            "grid_template_areas": null,
            "grid_template_columns": null,
            "grid_template_rows": null,
            "height": null,
            "justify_content": null,
            "justify_items": null,
            "left": null,
            "margin": null,
            "max_height": null,
            "max_width": null,
            "min_height": null,
            "min_width": null,
            "object_fit": null,
            "object_position": null,
            "order": null,
            "overflow": null,
            "overflow_x": null,
            "overflow_y": null,
            "padding": null,
            "right": null,
            "top": null,
            "visibility": null,
            "width": null
          }
        },
        "61ed511f0ce24f95a3f4485c3715b8e4": {
          "model_module": "@jupyter-widgets/base",
          "model_module_version": "1.2.0",
          "model_name": "LayoutModel",
          "state": {
            "_model_module": "@jupyter-widgets/base",
            "_model_module_version": "1.2.0",
            "_model_name": "LayoutModel",
            "_view_count": null,
            "_view_module": "@jupyter-widgets/base",
            "_view_module_version": "1.2.0",
            "_view_name": "LayoutView",
            "align_content": null,
            "align_items": null,
            "align_self": null,
            "border": null,
            "bottom": null,
            "display": null,
            "flex": null,
            "flex_flow": null,
            "grid_area": null,
            "grid_auto_columns": null,
            "grid_auto_flow": null,
            "grid_auto_rows": null,
            "grid_column": null,
            "grid_gap": null,
            "grid_row": null,
            "grid_template_areas": null,
            "grid_template_columns": null,
            "grid_template_rows": null,
            "height": null,
            "justify_content": null,
            "justify_items": null,
            "left": null,
            "margin": null,
            "max_height": null,
            "max_width": null,
            "min_height": null,
            "min_width": null,
            "object_fit": null,
            "object_position": null,
            "order": null,
            "overflow": null,
            "overflow_x": null,
            "overflow_y": null,
            "padding": null,
            "right": null,
            "top": null,
            "visibility": null,
            "width": null
          }
        },
        "7851f04f62ab41b3a6050804f562c2af": {
          "model_module": "@jupyter-widgets/base",
          "model_module_version": "1.2.0",
          "model_name": "LayoutModel",
          "state": {
            "_model_module": "@jupyter-widgets/base",
            "_model_module_version": "1.2.0",
            "_model_name": "LayoutModel",
            "_view_count": null,
            "_view_module": "@jupyter-widgets/base",
            "_view_module_version": "1.2.0",
            "_view_name": "LayoutView",
            "align_content": null,
            "align_items": null,
            "align_self": null,
            "border": null,
            "bottom": null,
            "display": null,
            "flex": null,
            "flex_flow": null,
            "grid_area": null,
            "grid_auto_columns": null,
            "grid_auto_flow": null,
            "grid_auto_rows": null,
            "grid_column": null,
            "grid_gap": null,
            "grid_row": null,
            "grid_template_areas": null,
            "grid_template_columns": null,
            "grid_template_rows": null,
            "height": null,
            "justify_content": null,
            "justify_items": null,
            "left": null,
            "margin": null,
            "max_height": null,
            "max_width": null,
            "min_height": null,
            "min_width": null,
            "object_fit": null,
            "object_position": null,
            "order": null,
            "overflow": null,
            "overflow_x": null,
            "overflow_y": null,
            "padding": null,
            "right": null,
            "top": null,
            "visibility": null,
            "width": null
          }
        },
        "79bd30db5aad44e98fbd7712cf7951b0": {
          "model_module": "@jupyter-widgets/controls",
          "model_module_version": "1.5.0",
          "model_name": "DescriptionStyleModel",
          "state": {
            "_model_module": "@jupyter-widgets/controls",
            "_model_module_version": "1.5.0",
            "_model_name": "DescriptionStyleModel",
            "_view_count": null,
            "_view_module": "@jupyter-widgets/base",
            "_view_module_version": "1.2.0",
            "_view_name": "StyleView",
            "description_width": "initial"
          }
        },
        "83cbb046529a493aaba17ee4e1c2f39e": {
          "model_module": "@jupyter-widgets/controls",
          "model_module_version": "1.5.0",
          "model_name": "ButtonModel",
          "state": {
            "_dom_classes": [],
            "_model_module": "@jupyter-widgets/controls",
            "_model_module_version": "1.5.0",
            "_model_name": "ButtonModel",
            "_view_count": null,
            "_view_module": "@jupyter-widgets/controls",
            "_view_module_version": "1.5.0",
            "_view_name": "ButtonView",
            "button_style": "success",
            "description": "Predict Selling Price",
            "disabled": false,
            "icon": "",
            "layout": "IPY_MODEL_c6de6bbd856f458fb35be9c1863962e5",
            "style": "IPY_MODEL_f7c952cb1e4c4cc4b775847bf8893d13",
            "tooltip": "Click to Predict"
          }
        },
        "8b32561777f7457e9c4b3c81bbbb6989": {
          "model_module": "@jupyter-widgets/base",
          "model_module_version": "1.2.0",
          "model_name": "LayoutModel",
          "state": {
            "_model_module": "@jupyter-widgets/base",
            "_model_module_version": "1.2.0",
            "_model_name": "LayoutModel",
            "_view_count": null,
            "_view_module": "@jupyter-widgets/base",
            "_view_module_version": "1.2.0",
            "_view_name": "LayoutView",
            "align_content": null,
            "align_items": null,
            "align_self": null,
            "border": null,
            "bottom": null,
            "display": null,
            "flex": null,
            "flex_flow": null,
            "grid_area": null,
            "grid_auto_columns": null,
            "grid_auto_flow": null,
            "grid_auto_rows": null,
            "grid_column": null,
            "grid_gap": null,
            "grid_row": null,
            "grid_template_areas": null,
            "grid_template_columns": null,
            "grid_template_rows": null,
            "height": null,
            "justify_content": null,
            "justify_items": null,
            "left": null,
            "margin": null,
            "max_height": null,
            "max_width": null,
            "min_height": null,
            "min_width": null,
            "object_fit": null,
            "object_position": null,
            "order": null,
            "overflow": null,
            "overflow_x": null,
            "overflow_y": null,
            "padding": null,
            "right": null,
            "top": null,
            "visibility": null,
            "width": null
          }
        },
        "a80648f924f04cd796d155f41104d619": {
          "model_module": "@jupyter-widgets/controls",
          "model_module_version": "1.5.0",
          "model_name": "DropdownModel",
          "state": {
            "_dom_classes": [],
            "_model_module": "@jupyter-widgets/controls",
            "_model_module_version": "1.5.0",
            "_model_name": "DropdownModel",
            "_options_labels": [
              "Petrol",
              "Diesel",
              "CNG"
            ],
            "_view_count": null,
            "_view_module": "@jupyter-widgets/controls",
            "_view_module_version": "1.5.0",
            "_view_name": "DropdownView",
            "description": "Fuel Type:",
            "description_tooltip": null,
            "disabled": false,
            "index": 1,
            "layout": "IPY_MODEL_4cc54235ccd14f55a37811a350c37c2b",
            "style": "IPY_MODEL_f363556b03e84dceaea8f54db0f83656"
          }
        },
        "ae49a114c865498581349e6b3499b72a": {
          "model_module": "@jupyter-widgets/controls",
          "model_module_version": "1.5.0",
          "model_name": "IntTextModel",
          "state": {
            "_dom_classes": [],
            "_model_module": "@jupyter-widgets/controls",
            "_model_module_version": "1.5.0",
            "_model_name": "IntTextModel",
            "_view_count": null,
            "_view_module": "@jupyter-widgets/controls",
            "_view_module_version": "1.5.0",
            "_view_name": "IntTextView",
            "continuous_update": false,
            "description": "Kms Driven:",
            "description_tooltip": null,
            "disabled": false,
            "layout": "IPY_MODEL_02025cb2dcf04542ad5f903c12942665",
            "step": 1,
            "style": "IPY_MODEL_c8e0260e0aae45f2a2e98370b2bd0f45",
            "value": 70022
          }
        },
        "aeb302433f9a41cfbf58c78e22734c42": {
          "model_module": "@jupyter-widgets/controls",
          "model_module_version": "1.5.0",
          "model_name": "DropdownModel",
          "state": {
            "_dom_classes": [],
            "_model_module": "@jupyter-widgets/controls",
            "_model_module_version": "1.5.0",
            "_model_name": "DropdownModel",
            "_options_labels": [
              "Dealer",
              "Individual"
            ],
            "_view_count": null,
            "_view_module": "@jupyter-widgets/controls",
            "_view_module_version": "1.5.0",
            "_view_name": "DropdownView",
            "description": "Seller Type:",
            "description_tooltip": null,
            "disabled": false,
            "index": 0,
            "layout": "IPY_MODEL_d4f4c5e8850e4e96b7be8d8238c642f1",
            "style": "IPY_MODEL_30efd4d6e7cd47e78292cd07568552bf"
          }
        },
        "c48d177b7c7b4956a9b0b429b7a3e288": {
          "model_module": "@jupyter-widgets/controls",
          "model_module_version": "1.5.0",
          "model_name": "DropdownModel",
          "state": {
            "_dom_classes": [],
            "_model_module": "@jupyter-widgets/controls",
            "_model_module_version": "1.5.0",
            "_model_name": "DropdownModel",
            "_options_labels": [
              "Manual",
              "Automatic"
            ],
            "_view_count": null,
            "_view_module": "@jupyter-widgets/controls",
            "_view_module_version": "1.5.0",
            "_view_name": "DropdownView",
            "description": "Transmission:",
            "description_tooltip": null,
            "disabled": false,
            "index": 1,
            "layout": "IPY_MODEL_61ed511f0ce24f95a3f4485c3715b8e4",
            "style": "IPY_MODEL_79bd30db5aad44e98fbd7712cf7951b0"
          }
        },
        "c5c48478eac941849a2bd417b218407d": {
          "model_module": "@jupyter-widgets/controls",
          "model_module_version": "1.5.0",
          "model_name": "IntSliderModel",
          "state": {
            "_dom_classes": [],
            "_model_module": "@jupyter-widgets/controls",
            "_model_module_version": "1.5.0",
            "_model_name": "IntSliderModel",
            "_view_count": null,
            "_view_module": "@jupyter-widgets/controls",
            "_view_module_version": "1.5.0",
            "_view_name": "IntSliderView",
            "continuous_update": false,
            "description": "Car Year:",
            "description_tooltip": null,
            "disabled": false,
            "layout": "IPY_MODEL_1b8135434dba4498ac5016e2c9eae03d",
            "max": 2025,
            "min": 1995,
            "orientation": "horizontal",
            "readout": true,
            "readout_format": "d",
            "step": 1,
            "style": "IPY_MODEL_27c9039ad5b2444c9cba3de87a418ecb",
            "value": 2004
          }
        },
        "c6de6bbd856f458fb35be9c1863962e5": {
          "model_module": "@jupyter-widgets/base",
          "model_module_version": "1.2.0",
          "model_name": "LayoutModel",
          "state": {
            "_model_module": "@jupyter-widgets/base",
            "_model_module_version": "1.2.0",
            "_model_name": "LayoutModel",
            "_view_count": null,
            "_view_module": "@jupyter-widgets/base",
            "_view_module_version": "1.2.0",
            "_view_name": "LayoutView",
            "align_content": null,
            "align_items": null,
            "align_self": null,
            "border": null,
            "bottom": null,
            "display": null,
            "flex": null,
            "flex_flow": null,
            "grid_area": null,
            "grid_auto_columns": null,
            "grid_auto_flow": null,
            "grid_auto_rows": null,
            "grid_column": null,
            "grid_gap": null,
            "grid_row": null,
            "grid_template_areas": null,
            "grid_template_columns": null,
            "grid_template_rows": null,
            "height": null,
            "justify_content": null,
            "justify_items": null,
            "left": null,
            "margin": null,
            "max_height": null,
            "max_width": null,
            "min_height": null,
            "min_width": null,
            "object_fit": null,
            "object_position": null,
            "order": null,
            "overflow": null,
            "overflow_x": null,
            "overflow_y": null,
            "padding": null,
            "right": null,
            "top": null,
            "visibility": null,
            "width": null
          }
        },
        "c8e0260e0aae45f2a2e98370b2bd0f45": {
          "model_module": "@jupyter-widgets/controls",
          "model_module_version": "1.5.0",
          "model_name": "DescriptionStyleModel",
          "state": {
            "_model_module": "@jupyter-widgets/controls",
            "_model_module_version": "1.5.0",
            "_model_name": "DescriptionStyleModel",
            "_view_count": null,
            "_view_module": "@jupyter-widgets/base",
            "_view_module_version": "1.2.0",
            "_view_name": "StyleView",
            "description_width": "initial"
          }
        },
        "d4f4c5e8850e4e96b7be8d8238c642f1": {
          "model_module": "@jupyter-widgets/base",
          "model_module_version": "1.2.0",
          "model_name": "LayoutModel",
          "state": {
            "_model_module": "@jupyter-widgets/base",
            "_model_module_version": "1.2.0",
            "_model_name": "LayoutModel",
            "_view_count": null,
            "_view_module": "@jupyter-widgets/base",
            "_view_module_version": "1.2.0",
            "_view_name": "LayoutView",
            "align_content": null,
            "align_items": null,
            "align_self": null,
            "border": null,
            "bottom": null,
            "display": null,
            "flex": null,
            "flex_flow": null,
            "grid_area": null,
            "grid_auto_columns": null,
            "grid_auto_flow": null,
            "grid_auto_rows": null,
            "grid_column": null,
            "grid_gap": null,
            "grid_row": null,
            "grid_template_areas": null,
            "grid_template_columns": null,
            "grid_template_rows": null,
            "height": null,
            "justify_content": null,
            "justify_items": null,
            "left": null,
            "margin": null,
            "max_height": null,
            "max_width": null,
            "min_height": null,
            "min_width": null,
            "object_fit": null,
            "object_position": null,
            "order": null,
            "overflow": null,
            "overflow_x": null,
            "overflow_y": null,
            "padding": null,
            "right": null,
            "top": null,
            "visibility": null,
            "width": null
          }
        },
        "df1bdb2abdcb498384b2bfad9ba285de": {
          "model_module": "@jupyter-widgets/base",
          "model_module_version": "1.2.0",
          "model_name": "LayoutModel",
          "state": {
            "_model_module": "@jupyter-widgets/base",
            "_model_module_version": "1.2.0",
            "_model_name": "LayoutModel",
            "_view_count": null,
            "_view_module": "@jupyter-widgets/base",
            "_view_module_version": "1.2.0",
            "_view_name": "LayoutView",
            "align_content": null,
            "align_items": null,
            "align_self": null,
            "border": null,
            "bottom": null,
            "display": null,
            "flex": null,
            "flex_flow": null,
            "grid_area": null,
            "grid_auto_columns": null,
            "grid_auto_flow": null,
            "grid_auto_rows": null,
            "grid_column": null,
            "grid_gap": null,
            "grid_row": null,
            "grid_template_areas": null,
            "grid_template_columns": null,
            "grid_template_rows": null,
            "height": null,
            "justify_content": null,
            "justify_items": null,
            "left": null,
            "margin": null,
            "max_height": null,
            "max_width": null,
            "min_height": null,
            "min_width": null,
            "object_fit": null,
            "object_position": null,
            "order": null,
            "overflow": null,
            "overflow_x": null,
            "overflow_y": null,
            "padding": null,
            "right": null,
            "top": null,
            "visibility": null,
            "width": null
          }
        },
        "f363556b03e84dceaea8f54db0f83656": {
          "model_module": "@jupyter-widgets/controls",
          "model_module_version": "1.5.0",
          "model_name": "DescriptionStyleModel",
          "state": {
            "_model_module": "@jupyter-widgets/controls",
            "_model_module_version": "1.5.0",
            "_model_name": "DescriptionStyleModel",
            "_view_count": null,
            "_view_module": "@jupyter-widgets/base",
            "_view_module_version": "1.2.0",
            "_view_name": "StyleView",
            "description_width": "initial"
          }
        },
        "f3b371f794ee4785a781f09db41029a7": {
          "model_module": "@jupyter-widgets/output",
          "model_module_version": "1.0.0",
          "model_name": "OutputModel",
          "state": {
            "_dom_classes": [],
            "_model_module": "@jupyter-widgets/output",
            "_model_module_version": "1.0.0",
            "_model_name": "OutputModel",
            "_view_count": null,
            "_view_module": "@jupyter-widgets/output",
            "_view_module_version": "1.0.0",
            "_view_name": "OutputView",
            "layout": "IPY_MODEL_7851f04f62ab41b3a6050804f562c2af",
            "msg_id": "",
            "outputs": [
              {
                "name": "stdout",
                "output_type": "stream",
                "text": [
                  "\n",
                  "🔮 Predicted Selling Price: ₹ 29.80 lakhs\n",
                  "\n"
                ]
              }
            ]
          }
        },
        "f7c952cb1e4c4cc4b775847bf8893d13": {
          "model_module": "@jupyter-widgets/controls",
          "model_module_version": "1.5.0",
          "model_name": "ButtonStyleModel",
          "state": {
            "_model_module": "@jupyter-widgets/controls",
            "_model_module_version": "1.5.0",
            "_model_name": "ButtonStyleModel",
            "_view_count": null,
            "_view_module": "@jupyter-widgets/base",
            "_view_module_version": "1.2.0",
            "_view_name": "StyleView",
            "button_color": null,
            "font_weight": ""
          }
        },
        "fbb73398896d49ee8a26345e42143c6f": {
          "model_module": "@jupyter-widgets/controls",
          "model_module_version": "1.5.0",
          "model_name": "VBoxModel",
          "state": {
            "_dom_classes": [],
            "_model_module": "@jupyter-widgets/controls",
            "_model_module_version": "1.5.0",
            "_model_name": "VBoxModel",
            "_view_count": null,
            "_view_module": "@jupyter-widgets/controls",
            "_view_module_version": "1.5.0",
            "_view_name": "VBoxView",
            "box_style": "",
            "children": [
              "IPY_MODEL_1554af3cd4144044ba5132e825b1ab6a",
              "IPY_MODEL_ae49a114c865498581349e6b3499b72a",
              "IPY_MODEL_a80648f924f04cd796d155f41104d619",
              "IPY_MODEL_aeb302433f9a41cfbf58c78e22734c42",
              "IPY_MODEL_c48d177b7c7b4956a9b0b429b7a3e288",
              "IPY_MODEL_032207e0317443ee90b5fc019811115d",
              "IPY_MODEL_c5c48478eac941849a2bd417b218407d",
              "IPY_MODEL_83cbb046529a493aaba17ee4e1c2f39e",
              "IPY_MODEL_f3b371f794ee4785a781f09db41029a7"
            ],
            "layout": "IPY_MODEL_8b32561777f7457e9c4b3c81bbbb6989"
          }
        }
      }
    }
  },
  "nbformat": 4,
  "nbformat_minor": 0
}
